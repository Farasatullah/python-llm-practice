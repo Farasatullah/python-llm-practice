{
  "nbformat": 4,
  "nbformat_minor": 0,
  "metadata": {
    "colab": {
      "provenance": []
    },
    "kernelspec": {
      "name": "python3",
      "display_name": "Python 3"
    },
    "language_info": {
      "name": "python"
    }
  },
  "cells": [
    {
      "cell_type": "code",
      "execution_count": 21,
      "metadata": {
        "id": "Ea9OrjXaorvd"
      },
      "outputs": [],
      "source": [
        "import re\n",
        "def clean_text(text: str) -> str:\n",
        "    text = text.lower()  # Convert all text to lowercase\n",
        "    text = re.sub(r'[^\\w\\s]', '', text)  # Remove punctuation using regex\n",
        "    text = re.sub(r'\\s+', ' ', text).strip()  # Replace multiple spaces with single space\n",
        "    return text\n"
      ]
    },
    {
      "cell_type": "code",
      "source": [
        "result = clean_text(text=\"Hello, World!!!\")\n",
        "print(f\"Input: 'Hello, World!!!'\")\n",
        "print(f\"Output: '{result}'\")"
      ],
      "metadata": {
        "colab": {
          "base_uri": "https://localhost:8080/"
        },
        "id": "jGB73nJ8r8D3",
        "outputId": "69bf2306-5ed7-449d-d8c8-b90caf33c038"
      },
      "execution_count": 22,
      "outputs": [
        {
          "output_type": "stream",
          "name": "stdout",
          "text": [
            "Input: 'Hello, World!!!'\n",
            "Output: 'hello world'\n"
          ]
        }
      ]
    },
    {
      "cell_type": "code",
      "source": [
        "def word_freq(text: str) -> dict:\n",
        "    text = clean_text(text)  # Step 1: Clean the text\n",
        "    words = text.split()  # Step 2: Split into words\n",
        "    freq = {}\n",
        "    for word in words:\n",
        "        freq[word] = freq.get(word, 0) + 1  # Count frequency of each word\n",
        "    return freq\n"
      ],
      "metadata": {
        "id": "VguKB5YV8U61"
      },
      "execution_count": 29,
      "outputs": []
    },
    {
      "cell_type": "code",
      "source": [
        "word_freq(\"hello hello world\")"
      ],
      "metadata": {
        "colab": {
          "base_uri": "https://localhost:8080/"
        },
        "id": "InNvBMEu8bHz",
        "outputId": "2e5abc1d-924b-4756-dc3a-1e5da0943bff"
      },
      "execution_count": 30,
      "outputs": [
        {
          "output_type": "execute_result",
          "data": {
            "text/plain": [
              "{'hello': 2, 'world': 1}"
            ]
          },
          "metadata": {},
          "execution_count": 30
        }
      ]
    },
    {
      "cell_type": "code",
      "source": [
        "numbers = list(range(1, 101))  # List of numbers from 1 to 100\n",
        "even_squares = [x**2 for x in numbers if x % 2 == 0]\n",
        "greater_than_50 = [x for x in numbers if x > 50]"
      ],
      "metadata": {
        "id": "DgBPpz1r9ZU0"
      },
      "execution_count": 31,
      "outputs": []
    },
    {
      "cell_type": "code",
      "source": [
        "print(f\"numbers: '{even_squares}'\")"
      ],
      "metadata": {
        "colab": {
          "base_uri": "https://localhost:8080/"
        },
        "id": "eaVmiVIM9hHN",
        "outputId": "9623e2fb-f163-4fd7-93b8-ac66362bcf58"
      },
      "execution_count": 34,
      "outputs": [
        {
          "output_type": "stream",
          "name": "stdout",
          "text": [
            "numbers: '[4, 16, 36, 64, 100, 144, 196, 256, 324, 400, 484, 576, 676, 784, 900, 1024, 1156, 1296, 1444, 1600, 1764, 1936, 2116, 2304, 2500, 2704, 2916, 3136, 3364, 3600, 3844, 4096, 4356, 4624, 4900, 5184, 5476, 5776, 6084, 6400, 6724, 7056, 7396, 7744, 8100, 8464, 8836, 9216, 9604, 10000]'\n"
          ]
        }
      ]
    },
    {
      "cell_type": "code",
      "source": [
        "from functools import reduce\n",
        "numbers_small = [1, 2, 3, 4, 5]\n",
        "doubled = list(map(lambda x: x * 2, numbers_small))\n",
        "sum_of_squares = reduce(lambda acc, x: acc + x**2, numbers_small, 0)"
      ],
      "metadata": {
        "id": "Gr7OrE1S9ub9"
      },
      "execution_count": 37,
      "outputs": []
    },
    {
      "cell_type": "code",
      "source": [
        "print(f\"sum_of_squares: '{sum_of_squares}'\")"
      ],
      "metadata": {
        "colab": {
          "base_uri": "https://localhost:8080/"
        },
        "id": "QgkOxE3zBeD1",
        "outputId": "0e319549-01d0-404b-efb5-ffc7e39d972d"
      },
      "execution_count": 41,
      "outputs": [
        {
          "output_type": "stream",
          "name": "stdout",
          "text": [
            "sum_of_squares: '55'\n"
          ]
        }
      ]
    },
    {
      "cell_type": "code",
      "source": [
        "def sort_freq(freq: dict) -> list:\n",
        "    return sorted(freq.items(), key=lambda x: x[1], reverse=True)\n"
      ],
      "metadata": {
        "id": "ETs0WarlCGon"
      },
      "execution_count": 47,
      "outputs": []
    },
    {
      "cell_type": "code",
      "source": [
        "sort_freq({'hello': 1, 'world': 3})"
      ],
      "metadata": {
        "colab": {
          "base_uri": "https://localhost:8080/"
        },
        "id": "w-u_TCnCCN0R",
        "outputId": "a8bdce3d-4b0b-4c08-c9b3-eaaa02cf69c6"
      },
      "execution_count": 50,
      "outputs": [
        {
          "output_type": "execute_result",
          "data": {
            "text/plain": [
              "[('world', 3), ('hello', 1)]"
            ]
          },
          "metadata": {},
          "execution_count": 50
        }
      ]
    },
    {
      "cell_type": "code",
      "source": [
        "sample = \"Hello, hello world!  This is a test. Hello again?\"\n",
        "freq = word_freq(sample)  # → Count cleaned words\n",
        "sorted_freq = sort_freq(freq)  # → Sort them\n",
        "\n",
        "print(\"Cleaned text:\", clean_text(sample))\n",
        "print(\"Word frequencies:\", freq)\n",
        "print(\"Sorted:\", sorted_freq)"
      ],
      "metadata": {
        "colab": {
          "base_uri": "https://localhost:8080/"
        },
        "id": "YYaqwr1DClY8",
        "outputId": "2cfb3c14-a750-4ffa-8bdb-e4fdbb60891a"
      },
      "execution_count": 51,
      "outputs": [
        {
          "output_type": "stream",
          "name": "stdout",
          "text": [
            "Cleaned text: hello hello world this is a test hello again\n",
            "Word frequencies: {'hello': 3, 'world': 1, 'this': 1, 'is': 1, 'a': 1, 'test': 1, 'again': 1}\n",
            "Sorted: [('hello', 3), ('world', 1), ('this', 1), ('is', 1), ('a', 1), ('test', 1), ('again', 1)]\n"
          ]
        }
      ]
    }
  ]
}